{
 "cells": [
  {
   "cell_type": "markdown",
   "metadata": {},
   "source": [
    "# U.S. Medical Insurance Costs"
   ]
  },
  {
   "cell_type": "markdown",
   "metadata": {},
   "source": [
    "## Aim:\n",
    "In this project, we aim to analyse how factors such as age, sex, BMI, region, smoking status, and number of children influence an individual's insurance costs.\n",
    "\n",
    "\n",
    "\n"
   ]
  },
  {
   "cell_type": "markdown",
   "metadata": {},
   "source": [
    "First we exctract the data from from ths csv file. Each row is stored as a dictionary. a lsit of these rows are stored in `insurance_data`\n",
    "\n",
    "\n",
    "\n"
   ]
  },
  {
   "cell_type": "code",
   "execution_count": 21,
   "metadata": {},
   "outputs": [],
   "source": [
    "import csv\n",
    "insurance_data = []\n",
    "with open('insurance.csv') as f:\n",
    "    data = csv.DictReader(f)\n",
    "    for row in data:\n",
    "        insurance_data.append(row)"
   ]
  },
  {
   "cell_type": "markdown",
   "metadata": {},
   "source": [
    "#### Insurance Cost by Age Group\n",
    "\n",
    "The average cost by age group can be seen below"
   ]
  },
  {
   "cell_type": "code",
   "execution_count": 22,
   "metadata": {},
   "outputs": [
    {
     "name": "stdout",
     "output_type": "stream",
     "text": [
      "The range of ages in this data is 18 - 64\n"
     ]
    }
   ],
   "source": [
    "lowest_age = min(row[\"age\"] for row in insurance_data)\n",
    "highest_age = max(row[\"age\"] for row in insurance_data)\n",
    "print(f\"The range of ages in this data is {lowest_age} - {highest_age}\")"
   ]
  },
  {
   "cell_type": "markdown",
   "metadata": {},
   "source": [
    "The data will be organised by the following age groups:\n",
    "* 18-25\n",
    "* 25-30\n",
    "* 30-40\n",
    "* 40-50\n",
    "* 50-60\n",
    "* 60+\n"
   ]
  },
  {
   "cell_type": "code",
   "execution_count": 23,
   "metadata": {},
   "outputs": [],
   "source": [
    "def avg_cost_by_age_group(insurance_data, age_range):\n",
    "    costs = []\n",
    "    for row in insurance_data:\n",
    "        if int(row['age']) < age_range[1] and int(row['age']) >= age_range[0]:\n",
    "            costs.append(float(row['charges']))\n",
    "    average_cost = sum(costs)/len(costs)\n",
    "    return average_cost"
   ]
  },
  {
   "cell_type": "code",
   "execution_count": 24,
   "metadata": {},
   "outputs": [
    {
     "data": {
      "text/plain": [
       "{'18-25': 9011.340317334532,\n",
       " '25-30': 9524.780740791368,\n",
       " '30-40': 11738.784117354086,\n",
       " '40-50': 14399.203563870968,\n",
       " '50-60': 16495.23266498155,\n",
       " '60+': 21248.021884912283}"
      ]
     },
     "execution_count": 24,
     "metadata": {},
     "output_type": "execute_result"
    }
   ],
   "source": [
    "age_group_against_cost = {\n",
    "                         '18-25':avg_cost_by_age_group(insurance_data, (18,25)),\n",
    "                         '25-30':avg_cost_by_age_group(insurance_data, (25,30)),\n",
    "                         '30-40':avg_cost_by_age_group(insurance_data, (30,40)),\n",
    "                         '40-50':avg_cost_by_age_group(insurance_data, (40,50)),\n",
    "                         '50-60':avg_cost_by_age_group(insurance_data, (50,60)),\n",
    "                         '60+':avg_cost_by_age_group(insurance_data, (60,999))\n",
    "                                }\n",
    "age_group_against_cost"
   ]
  },
  {
   "cell_type": "markdown",
   "metadata": {},
   "source": [
    "The dictionary above shows the average cost for each age group, As we can see the cost of insurance increases with age.\n"
   ]
  },
  {
   "cell_type": "markdown",
   "metadata": {},
   "source": [
    "#### Insurance Cost by sex\n",
    "\n",
    "The average cost by sex group can be seen below"
   ]
  },
  {
   "cell_type": "code",
   "execution_count": 36,
   "metadata": {},
   "outputs": [],
   "source": [
    "def avg_cost_by_sex(insurance_data, sex):\n",
    "    costs = []\n",
    "    for row in insurance_data:\n",
    "        if row['sex'] == sex:\n",
    "            costs.append(float(row['charges']))\n",
    "    average_cost = sum(costs)/len(costs)\n",
    "    return average_cost\n"
   ]
  },
  {
   "cell_type": "code",
   "execution_count": 37,
   "metadata": {},
   "outputs": [
    {
     "data": {
      "text/plain": [
       "{'Male': 13956.751177721893, 'Female': 12569.578843835347}"
      ]
     },
     "execution_count": 37,
     "metadata": {},
     "output_type": "execute_result"
    }
   ],
   "source": [
    "sex_against_cost ={\n",
    "    'Male':avg_cost_by_sex(insurance_data, 'male'),\n",
    "    'Female':avg_cost_by_sex(insurance_data, 'female')\n",
    "}\n",
    "sex_against_cost"
   ]
  },
  {
   "cell_type": "markdown",
   "metadata": {},
   "source": [
    "The dictionary above shows that on average insurance charges for males"
   ]
  },
  {
   "cell_type": "markdown",
   "metadata": {},
   "source": [
    "#### Insurance cost by BMI\n",
    "\n",
    "First let find out what ranges of bmi we have"
   ]
  },
  {
   "cell_type": "code",
   "execution_count": 32,
   "metadata": {},
   "outputs": [
    {
     "name": "stdout",
     "output_type": "stream",
     "text": [
      "The range of bmi's in this data is 15.96 - 53.13\n"
     ]
    }
   ],
   "source": [
    "lowest_bmi = min(row[\"bmi\"] for row in insurance_data)\n",
    "highest_bmi = max(row[\"bmi\"] for row in insurance_data)\n",
    "print(f\"The range of bmi's in this data is {lowest_bmi} - {highest_bmi}\")"
   ]
  },
  {
   "cell_type": "markdown",
   "metadata": {},
   "source": [
    "The data will be organised by the following bmi groups:\n",
    "* 10-20\n",
    "* 20-30\n",
    "* 30-40\n",
    "* 40-50\n",
    "* 50 +"
   ]
  },
  {
   "cell_type": "code",
   "execution_count": 41,
   "metadata": {},
   "outputs": [],
   "source": [
    "def avg_cost_by_bmi(insurance_data, bmi_range):\n",
    "    costs = []\n",
    "    for row in insurance_data:\n",
    "        if float(row['bmi']) < bmi_range[1] and float(row['bmi']) >= bmi_range[0]:\n",
    "            costs.append(float(row['charges']))\n",
    "    average_cost = sum(costs)/len(costs)\n",
    "    return average_cost"
   ]
  },
  {
   "cell_type": "code",
   "execution_count": 42,
   "metadata": {},
   "outputs": [
    {
     "data": {
      "text/plain": [
       "{'10-20': 8838.56113512195,\n",
       " '20-30': 10843.970860557627,\n",
       " '30-40': 15370.294093766235,\n",
       " '40-50': 16810.194302613636,\n",
       " '50+': 16034.305366666667}"
      ]
     },
     "execution_count": 42,
     "metadata": {},
     "output_type": "execute_result"
    }
   ],
   "source": [
    "bmi_against_cost = {\n",
    "    '10-20':avg_cost_by_bmi(insurance_data, (10,20)),\n",
    "    '20-30':avg_cost_by_bmi(insurance_data, (20,30)),\n",
    "    '30-40':avg_cost_by_bmi(insurance_data, (30,40)),\n",
    "    '40-50':avg_cost_by_bmi(insurance_data, (40,50)),\n",
    "    '50+':avg_cost_by_bmi(insurance_data, (50,999))\n",
    "    }\n",
    "bmi_against_cost"
   ]
  },
  {
   "cell_type": "markdown",
   "metadata": {},
   "source": [
    "The dictionary above shows the average cost for each bmi group, The data above indicates that a higher bmi results in a higher insurance cost"
   ]
  },
  {
   "cell_type": "markdown",
   "metadata": {},
   "source": [
    "#### Insurance cost by region\n",
    "First lets find out all the regions we have:"
   ]
  },
  {
   "cell_type": "code",
   "execution_count": 45,
   "metadata": {},
   "outputs": [
    {
     "data": {
      "text/plain": [
       "['southeast', 'northeast', 'southwest', 'northwest']"
      ]
     },
     "execution_count": 45,
     "metadata": {},
     "output_type": "execute_result"
    }
   ],
   "source": [
    "regions = list({row[\"region\"] for row in insurance_data})\n",
    "regions"
   ]
  },
  {
   "cell_type": "markdown",
   "metadata": {},
   "source": [
    "The data will be organised into the following regions:\n",
    "* northeast\n",
    "* southeast\n",
    "* northwest\n",
    "* southwest"
   ]
  },
  {
   "cell_type": "code",
   "execution_count": 48,
   "metadata": {},
   "outputs": [],
   "source": [
    "def avg_cost_by_region(insurance_data, region):\n",
    "    costs = []\n",
    "    for row in insurance_data:\n",
    "        if row['region'] == region:\n",
    "            costs.append(float(row['charges']))\n",
    "    average_cost = sum(costs)/len(costs)\n",
    "    return average_cost"
   ]
  },
  {
   "cell_type": "code",
   "execution_count": 50,
   "metadata": {},
   "outputs": [
    {
     "data": {
      "text/plain": [
       "{'northeast': 13406.384516385804,\n",
       " 'southeast': 14735.41143760989,\n",
       " 'northwest': 12417.575373969232,\n",
       " 'southwest': 12346.937377292308}"
      ]
     },
     "execution_count": 50,
     "metadata": {},
     "output_type": "execute_result"
    }
   ],
   "source": [
    "cost_against_region = {\n",
    "    'northeast':avg_cost_by_region(insurance_data, 'northeast'),\n",
    "    'southeast':avg_cost_by_region(insurance_data, 'southeast'),\n",
    "    'northwest':avg_cost_by_region(insurance_data, 'northwest'),\n",
    "    'southwest':avg_cost_by_region(insurance_data, 'southwest')\n",
    "    \n",
    "}\n",
    "cost_against_region"
   ]
  },
  {
   "cell_type": "markdown",
   "metadata": {},
   "source": [
    "Data show that on average people in the southeast pay mroe for insurance compared to the southwest"
   ]
  },
  {
   "cell_type": "code",
   "execution_count": null,
   "metadata": {},
   "outputs": [],
   "source": []
  }
 ],
 "metadata": {
  "kernelspec": {
   "display_name": "Python 3 (ipykernel)",
   "language": "python",
   "name": "python3"
  },
  "language_info": {
   "codemirror_mode": {
    "name": "ipython",
    "version": 3
   },
   "file_extension": ".py",
   "mimetype": "text/x-python",
   "name": "python",
   "nbconvert_exporter": "python",
   "pygments_lexer": "ipython3",
   "version": "3.13.0"
  }
 },
 "nbformat": 4,
 "nbformat_minor": 4
}
